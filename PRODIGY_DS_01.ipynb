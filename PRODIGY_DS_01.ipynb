{
 "cells": [
  {
   "cell_type": "code",
   "execution_count": 1,
   "id": "b41ba82b-e3d7-415f-9b92-ea256a852708",
   "metadata": {},
   "outputs": [],
   "source": [
    "import matplotlib.pyplot as plt\n",
    "import numpy as np\n",
    "import pandas as pd"
   ]
  },
  {
   "cell_type": "code",
   "execution_count": 2,
   "id": "ecf4cfe2-3cd3-46b0-bf2b-659e89f1d02a",
   "metadata": {},
   "outputs": [
    {
     "data": {
      "text/html": [
       "<div>\n",
       "<style scoped>\n",
       "    .dataframe tbody tr th:only-of-type {\n",
       "        vertical-align: middle;\n",
       "    }\n",
       "\n",
       "    .dataframe tbody tr th {\n",
       "        vertical-align: top;\n",
       "    }\n",
       "\n",
       "    .dataframe thead th {\n",
       "        text-align: right;\n",
       "    }\n",
       "</style>\n",
       "<table border=\"1\" class=\"dataframe\">\n",
       "  <thead>\n",
       "    <tr style=\"text-align: right;\">\n",
       "      <th></th>\n",
       "      <th>Series Name</th>\n",
       "      <th>Series Code</th>\n",
       "      <th>Country Name</th>\n",
       "      <th>Country Code</th>\n",
       "      <th>1990</th>\n",
       "      <th>2000</th>\n",
       "      <th>2013</th>\n",
       "      <th>2014</th>\n",
       "      <th>2015</th>\n",
       "      <th>2016</th>\n",
       "      <th>2017</th>\n",
       "      <th>2018</th>\n",
       "      <th>2019</th>\n",
       "      <th>2020</th>\n",
       "      <th>2021</th>\n",
       "      <th>2022</th>\n",
       "    </tr>\n",
       "  </thead>\n",
       "  <tbody>\n",
       "    <tr>\n",
       "      <th>0</th>\n",
       "      <td>Population, total</td>\n",
       "      <td>SP.POP.TOTL</td>\n",
       "      <td>Afghanistan</td>\n",
       "      <td>AFG</td>\n",
       "      <td>10694796</td>\n",
       "      <td>19542982</td>\n",
       "      <td>31541209</td>\n",
       "      <td>32716210</td>\n",
       "      <td>33753499</td>\n",
       "      <td>34636207</td>\n",
       "      <td>35643418</td>\n",
       "      <td>36686784</td>\n",
       "      <td>37769499</td>\n",
       "      <td>38972230</td>\n",
       "      <td>40099462</td>\n",
       "      <td>41128771</td>\n",
       "    </tr>\n",
       "    <tr>\n",
       "      <th>1</th>\n",
       "      <td>Population, total</td>\n",
       "      <td>SP.POP.TOTL</td>\n",
       "      <td>Albania</td>\n",
       "      <td>ALB</td>\n",
       "      <td>3286542</td>\n",
       "      <td>3089027</td>\n",
       "      <td>2895092</td>\n",
       "      <td>2889104</td>\n",
       "      <td>2880703</td>\n",
       "      <td>2876101</td>\n",
       "      <td>2873457</td>\n",
       "      <td>2866376</td>\n",
       "      <td>2854191</td>\n",
       "      <td>2837849</td>\n",
       "      <td>2811666</td>\n",
       "      <td>2777689</td>\n",
       "    </tr>\n",
       "    <tr>\n",
       "      <th>2</th>\n",
       "      <td>Population, total</td>\n",
       "      <td>SP.POP.TOTL</td>\n",
       "      <td>Algeria</td>\n",
       "      <td>DZA</td>\n",
       "      <td>25518074</td>\n",
       "      <td>30774621</td>\n",
       "      <td>38000626</td>\n",
       "      <td>38760168</td>\n",
       "      <td>39543154</td>\n",
       "      <td>40339329</td>\n",
       "      <td>41136546</td>\n",
       "      <td>41927007</td>\n",
       "      <td>42705368</td>\n",
       "      <td>43451666</td>\n",
       "      <td>44177969</td>\n",
       "      <td>44903225</td>\n",
       "    </tr>\n",
       "    <tr>\n",
       "      <th>3</th>\n",
       "      <td>Population, total</td>\n",
       "      <td>SP.POP.TOTL</td>\n",
       "      <td>American Samoa</td>\n",
       "      <td>ASM</td>\n",
       "      <td>47818</td>\n",
       "      <td>58230</td>\n",
       "      <td>52995</td>\n",
       "      <td>52217</td>\n",
       "      <td>51368</td>\n",
       "      <td>50448</td>\n",
       "      <td>49463</td>\n",
       "      <td>48424</td>\n",
       "      <td>47321</td>\n",
       "      <td>46189</td>\n",
       "      <td>45035</td>\n",
       "      <td>44273</td>\n",
       "    </tr>\n",
       "    <tr>\n",
       "      <th>4</th>\n",
       "      <td>Population, total</td>\n",
       "      <td>SP.POP.TOTL</td>\n",
       "      <td>Andorra</td>\n",
       "      <td>AND</td>\n",
       "      <td>53569</td>\n",
       "      <td>66097</td>\n",
       "      <td>71367</td>\n",
       "      <td>71621</td>\n",
       "      <td>71746</td>\n",
       "      <td>72540</td>\n",
       "      <td>73837</td>\n",
       "      <td>75013</td>\n",
       "      <td>76343</td>\n",
       "      <td>77700</td>\n",
       "      <td>79034</td>\n",
       "      <td>79824</td>\n",
       "    </tr>\n",
       "  </tbody>\n",
       "</table>\n",
       "</div>"
      ],
      "text/plain": [
       "         Series Name  Series Code    Country Name Country Code      1990  \\\n",
       "0  Population, total  SP.POP.TOTL     Afghanistan          AFG  10694796   \n",
       "1  Population, total  SP.POP.TOTL         Albania          ALB   3286542   \n",
       "2  Population, total  SP.POP.TOTL         Algeria          DZA  25518074   \n",
       "3  Population, total  SP.POP.TOTL  American Samoa          ASM     47818   \n",
       "4  Population, total  SP.POP.TOTL         Andorra          AND     53569   \n",
       "\n",
       "       2000      2013      2014      2015      2016      2017      2018  \\\n",
       "0  19542982  31541209  32716210  33753499  34636207  35643418  36686784   \n",
       "1   3089027   2895092   2889104   2880703   2876101   2873457   2866376   \n",
       "2  30774621  38000626  38760168  39543154  40339329  41136546  41927007   \n",
       "3     58230     52995     52217     51368     50448     49463     48424   \n",
       "4     66097     71367     71621     71746     72540     73837     75013   \n",
       "\n",
       "       2019      2020      2021      2022  \n",
       "0  37769499  38972230  40099462  41128771  \n",
       "1   2854191   2837849   2811666   2777689  \n",
       "2  42705368  43451666  44177969  44903225  \n",
       "3     47321     46189     45035     44273  \n",
       "4     76343     77700     79034     79824  "
      ]
     },
     "execution_count": 2,
     "metadata": {},
     "output_type": "execute_result"
    }
   ],
   "source": [
    "df = pd.read_csv('dd3e6b37-a07e-49c2-b171-3a9b674383fc_Data.csv',  encoding='utf-8')\n",
    "df.head()"
   ]
  },
  {
   "cell_type": "code",
   "execution_count": 5,
   "id": "1797312e-53ef-4d73-8825-5111fb058e44",
   "metadata": {},
   "outputs": [],
   "source": [
    "df_new = df.drop(['Series Name','Country Code', 'Series Code'], axis=1)"
   ]
  },
  {
   "cell_type": "code",
   "execution_count": 22,
   "id": "c6e43532-2d10-43f7-b4ec-1bd85465ecf1",
   "metadata": {},
   "outputs": [
    {
     "data": {
      "image/png": "[encoded data removed]",
      "text/plain": [
       "<Figure size 700x500 with 1 Axes>"
      ]
     },
     "metadata": {},
     "output_type": "display_data"
    }
   ],
   "source": [
    "country = 'India'\n",
    "\n",
    "\n",
    "country_info = df_new[df_new['Country Name'] == country].apply(pd.to_numeric, errors='coerce')\n",
    "\n",
    "\n",
    "years = country_info.columns[1:]\n",
    "population = country_info.iloc[:, 1:].values.flatten()\n",
    "\n",
    "plt.figure(figsize=(7, 5))\n",
    "plt.bar(years, population, color='lightblue')\n",
    "plt.xlabel('Year')\n",
    "plt.ylabel('Population')\n",
    "plt.title(f'Population of {country} Over the Years')\n",
    "\n",
    "\n",
    "plt.show()"
   ]
  },
  {
   "cell_type": "code",
   "execution_count": 26,
   "id": "18a0fb12-4a3c-4829-af80-702388679de4",
   "metadata": {},
   "outputs": [
    {
     "data": {
      "image/png": "[encoded data removed]",
      "text/plain": [
       "<Figure size 640x480 with 1 Axes>"
      ]
     },
     "metadata": {},
     "output_type": "display_data"
    }
   ],
   "source": [
    "\n",
    "plt.hist(population, bins=10, color='lightblue', edgecolor='black')\n",
    "plt.show()"
   ]
  },
  {
   "cell_type": "code",
   "execution_count": null,
   "id": "b93babb2-5137-40ae-9cfd-f438fff57328",
   "metadata": {},
   "outputs": [],
   "source": []
  }
 ],
 "metadata": {
  "kernelspec": {
   "display_name": "my_env",
   "language": "python",
   "name": "my_env"
  },
  "language_info": {
   "codemirror_mode": {
    "name": "ipython",
    "version": 3
   },
   "file_extension": ".py",
   "mimetype": "text/x-python",
   "name": "python",
   "nbconvert_exporter": "python",
   "pygments_lexer": "ipython3",
   "version": "3.10.0"
  }
 },
 "nbformat": 4,
 "nbformat_minor": 5
}
